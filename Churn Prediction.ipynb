{
 "cells": [
  {
   "cell_type": "code",
   "execution_count": 35,
   "metadata": {},
   "outputs": [],
   "source": [
    "import pandas as pd\n",
    "import numpy as np\n",
    "import matplotlib.pyplot as plt\n",
    "from sklearn.preprocessing import LabelEncoder,OneHotEncoder\n",
    "from sklearn.model_selection import train_test_split\n",
    "from sklearn.preprocessing import StandardScaler\n",
    "import keras\n",
    "from keras.models import Sequential\n",
    "from keras.layers import Dense\n",
    "from keras.layers import Dropout\n",
    "from keras.wrappers.scikit_learn import KerasClassifier\n",
    "from sklearn.model_selection import cross_val_score"
   ]
  },
  {
   "cell_type": "code",
   "execution_count": 36,
   "metadata": {},
   "outputs": [
    {
     "data": {
      "text/html": [
       "<div>\n",
       "<style scoped>\n",
       "    .dataframe tbody tr th:only-of-type {\n",
       "        vertical-align: middle;\n",
       "    }\n",
       "\n",
       "    .dataframe tbody tr th {\n",
       "        vertical-align: top;\n",
       "    }\n",
       "\n",
       "    .dataframe thead th {\n",
       "        text-align: right;\n",
       "    }\n",
       "</style>\n",
       "<table border=\"1\" class=\"dataframe\">\n",
       "  <thead>\n",
       "    <tr style=\"text-align: right;\">\n",
       "      <th></th>\n",
       "      <th>RowNumber</th>\n",
       "      <th>CustomerId</th>\n",
       "      <th>Surname</th>\n",
       "      <th>CreditScore</th>\n",
       "      <th>Geography</th>\n",
       "      <th>Gender</th>\n",
       "      <th>Age</th>\n",
       "      <th>Tenure</th>\n",
       "      <th>Balance</th>\n",
       "      <th>NumOfProducts</th>\n",
       "      <th>HasCrCard</th>\n",
       "      <th>IsActiveMember</th>\n",
       "      <th>EstimatedSalary</th>\n",
       "      <th>Exited</th>\n",
       "    </tr>\n",
       "  </thead>\n",
       "  <tbody>\n",
       "    <tr>\n",
       "      <th>0</th>\n",
       "      <td>1</td>\n",
       "      <td>15634602</td>\n",
       "      <td>Hargrave</td>\n",
       "      <td>619</td>\n",
       "      <td>France</td>\n",
       "      <td>Female</td>\n",
       "      <td>42</td>\n",
       "      <td>2</td>\n",
       "      <td>0.00</td>\n",
       "      <td>1</td>\n",
       "      <td>1</td>\n",
       "      <td>1</td>\n",
       "      <td>101348.88</td>\n",
       "      <td>1</td>\n",
       "    </tr>\n",
       "    <tr>\n",
       "      <th>1</th>\n",
       "      <td>2</td>\n",
       "      <td>15647311</td>\n",
       "      <td>Hill</td>\n",
       "      <td>608</td>\n",
       "      <td>Spain</td>\n",
       "      <td>Female</td>\n",
       "      <td>41</td>\n",
       "      <td>1</td>\n",
       "      <td>83807.86</td>\n",
       "      <td>1</td>\n",
       "      <td>0</td>\n",
       "      <td>1</td>\n",
       "      <td>112542.58</td>\n",
       "      <td>0</td>\n",
       "    </tr>\n",
       "    <tr>\n",
       "      <th>2</th>\n",
       "      <td>3</td>\n",
       "      <td>15619304</td>\n",
       "      <td>Onio</td>\n",
       "      <td>502</td>\n",
       "      <td>France</td>\n",
       "      <td>Female</td>\n",
       "      <td>42</td>\n",
       "      <td>8</td>\n",
       "      <td>159660.80</td>\n",
       "      <td>3</td>\n",
       "      <td>1</td>\n",
       "      <td>0</td>\n",
       "      <td>113931.57</td>\n",
       "      <td>1</td>\n",
       "    </tr>\n",
       "    <tr>\n",
       "      <th>3</th>\n",
       "      <td>4</td>\n",
       "      <td>15701354</td>\n",
       "      <td>Boni</td>\n",
       "      <td>699</td>\n",
       "      <td>France</td>\n",
       "      <td>Female</td>\n",
       "      <td>39</td>\n",
       "      <td>1</td>\n",
       "      <td>0.00</td>\n",
       "      <td>2</td>\n",
       "      <td>0</td>\n",
       "      <td>0</td>\n",
       "      <td>93826.63</td>\n",
       "      <td>0</td>\n",
       "    </tr>\n",
       "    <tr>\n",
       "      <th>4</th>\n",
       "      <td>5</td>\n",
       "      <td>15737888</td>\n",
       "      <td>Mitchell</td>\n",
       "      <td>850</td>\n",
       "      <td>Spain</td>\n",
       "      <td>Female</td>\n",
       "      <td>43</td>\n",
       "      <td>2</td>\n",
       "      <td>125510.82</td>\n",
       "      <td>1</td>\n",
       "      <td>1</td>\n",
       "      <td>1</td>\n",
       "      <td>79084.10</td>\n",
       "      <td>0</td>\n",
       "    </tr>\n",
       "  </tbody>\n",
       "</table>\n",
       "</div>"
      ],
      "text/plain": [
       "   RowNumber  CustomerId   Surname  CreditScore Geography  Gender  Age  \\\n",
       "0          1    15634602  Hargrave          619    France  Female   42   \n",
       "1          2    15647311      Hill          608     Spain  Female   41   \n",
       "2          3    15619304      Onio          502    France  Female   42   \n",
       "3          4    15701354      Boni          699    France  Female   39   \n",
       "4          5    15737888  Mitchell          850     Spain  Female   43   \n",
       "\n",
       "   Tenure    Balance  NumOfProducts  HasCrCard  IsActiveMember  \\\n",
       "0       2       0.00              1          1               1   \n",
       "1       1   83807.86              1          0               1   \n",
       "2       8  159660.80              3          1               0   \n",
       "3       1       0.00              2          0               0   \n",
       "4       2  125510.82              1          1               1   \n",
       "\n",
       "   EstimatedSalary  Exited  \n",
       "0        101348.88       1  \n",
       "1        112542.58       0  \n",
       "2        113931.57       1  \n",
       "3         93826.63       0  \n",
       "4         79084.10       0  "
      ]
     },
     "execution_count": 36,
     "metadata": {},
     "output_type": "execute_result"
    }
   ],
   "source": [
    "dataset=pd.read_csv('Churn_Modelling.csv')\n",
    "dataset.head()"
   ]
  },
  {
   "cell_type": "code",
   "execution_count": 37,
   "metadata": {},
   "outputs": [],
   "source": [
    "X=dataset.iloc[:,3:13].values\n",
    "y=dataset.iloc[:,13].values"
   ]
  },
  {
   "cell_type": "code",
   "execution_count": 38,
   "metadata": {},
   "outputs": [
    {
     "data": {
      "text/plain": [
       "((10000, 10), (10000,))"
      ]
     },
     "execution_count": 38,
     "metadata": {},
     "output_type": "execute_result"
    }
   ],
   "source": [
    "X.shape,y.shape"
   ]
  },
  {
   "cell_type": "code",
   "execution_count": 39,
   "metadata": {},
   "outputs": [],
   "source": [
    "labelencoder=LabelEncoder()\n",
    "X[:,1]=labelencoder.fit_transform(X[:,1])\n",
    "X[:,2]=labelencoder.fit_transform(X[:,2])"
   ]
  },
  {
   "cell_type": "code",
   "execution_count": 40,
   "metadata": {},
   "outputs": [],
   "source": [
    "ohe=OneHotEncoder(categorical_features=[1])\n",
    "X=ohe.fit_transform(X).toarray()"
   ]
  },
  {
   "cell_type": "code",
   "execution_count": 41,
   "metadata": {},
   "outputs": [
    {
     "data": {
      "text/plain": [
       "(10000, 12)"
      ]
     },
     "execution_count": 41,
     "metadata": {},
     "output_type": "execute_result"
    }
   ],
   "source": [
    "X.shape"
   ]
  },
  {
   "cell_type": "code",
   "execution_count": 42,
   "metadata": {},
   "outputs": [],
   "source": [
    "X=X[:,1:]#dummy variable trap"
   ]
  },
  {
   "cell_type": "code",
   "execution_count": 43,
   "metadata": {},
   "outputs": [
    {
     "data": {
      "text/plain": [
       "(10000, 11)"
      ]
     },
     "execution_count": 43,
     "metadata": {},
     "output_type": "execute_result"
    }
   ],
   "source": [
    "X.shape"
   ]
  },
  {
   "cell_type": "code",
   "execution_count": 44,
   "metadata": {},
   "outputs": [],
   "source": [
    "X_train,X_test,y_train,y_test=train_test_split(X,y,test_size=0.2)"
   ]
  },
  {
   "cell_type": "code",
   "execution_count": 45,
   "metadata": {},
   "outputs": [
    {
     "data": {
      "text/plain": [
       "array([[-0.57696537, -0.57600312, -1.56474322, ...,  0.64337173,\n",
       "        -1.02943297, -0.46474549],\n",
       "       [-0.57696537, -0.57600312, -0.68642866, ..., -1.55431138,\n",
       "         0.97140856,  1.27900426],\n",
       "       [-0.57696537, -0.57600312, -0.51076575, ..., -1.55431138,\n",
       "         0.97140856,  1.26476658],\n",
       "       ...,\n",
       "       [-0.57696537,  1.73610172,  0.98753556, ...,  0.64337173,\n",
       "         0.97140856, -1.45730821],\n",
       "       [-0.57696537,  1.73610172,  0.82220576, ...,  0.64337173,\n",
       "         0.97140856,  1.50280621],\n",
       "       [-0.57696537, -0.57600312, -0.07677503, ..., -1.55431138,\n",
       "        -1.02943297, -0.77148922]])"
      ]
     },
     "execution_count": 45,
     "metadata": {},
     "output_type": "execute_result"
    }
   ],
   "source": [
    "sc=StandardScaler()\n",
    "sc.fit_transform(X_train)\n",
    "sc.transform(X_test)"
   ]
  },
  {
   "cell_type": "code",
   "execution_count": 46,
   "metadata": {},
   "outputs": [
    {
     "name": "stderr",
     "output_type": "stream",
     "text": [
      "C:\\Users\\Sachin\\Anaconda3\\lib\\site-packages\\ipykernel_launcher.py:4: UserWarning: Update your `Dropout` call to the Keras 2 API: `Dropout(rate=0.1)`\n",
      "  after removing the cwd from sys.path.\n",
      "C:\\Users\\Sachin\\Anaconda3\\lib\\site-packages\\ipykernel_launcher.py:6: UserWarning: Update your `Dropout` call to the Keras 2 API: `Dropout(rate=0.1)`\n",
      "  \n"
     ]
    }
   ],
   "source": [
    "clf=Sequential()\n",
    "clf.add(Dense(units=6,activation='relu',kernel_initializer='uniform',input_dim=11))\n",
    "#adding dropout\n",
    "clf.add(Dropout(p=0.1))\n",
    "clf.add(Dense(units=6,activation='relu',kernel_initializer='uniform'))\n",
    "clf.add(Dropout(p=0.1))"
   ]
  },
  {
   "cell_type": "code",
   "execution_count": 47,
   "metadata": {},
   "outputs": [],
   "source": [
    "clf.add(Dense(units=1,kernel_initializer='uniform',activation='sigmoid'))"
   ]
  },
  {
   "cell_type": "code",
   "execution_count": 48,
   "metadata": {},
   "outputs": [],
   "source": [
    "clf.compile(optimizer='adam',loss='binary_crossentropy',metrics=['accuracy'])"
   ]
  },
  {
   "cell_type": "code",
   "execution_count": 49,
   "metadata": {},
   "outputs": [
    {
     "name": "stdout",
     "output_type": "stream",
     "text": [
      "Epoch 1/100\n",
      "8000/8000 [==============================] - 1s 86us/step - loss: 0.9575 - acc: 0.6929\n",
      "Epoch 2/100\n",
      "8000/8000 [==============================] - 0s 16us/step - loss: 0.6364 - acc: 0.7672\n",
      "Epoch 3/100\n",
      "8000/8000 [==============================] - 0s 7us/step - loss: 0.6065 - acc: 0.7890\n",
      "Epoch 4/100\n",
      "8000/8000 [==============================] - 0s 8us/step - loss: 0.5996 - acc: 0.7945\n",
      "Epoch 5/100\n",
      "8000/8000 [==============================] - 0s 9us/step - loss: 0.5826 - acc: 0.7970\n",
      "Epoch 6/100\n",
      "8000/8000 [==============================] - 0s 9us/step - loss: 0.5587 - acc: 0.7960\n",
      "Epoch 7/100\n",
      "8000/8000 [==============================] - 0s 9us/step - loss: 0.5489 - acc: 0.7955\n",
      "Epoch 8/100\n",
      "8000/8000 [==============================] - 0s 8us/step - loss: 0.5453 - acc: 0.7966\n",
      "Epoch 9/100\n",
      "8000/8000 [==============================] - 0s 9us/step - loss: 0.5405 - acc: 0.7967\n",
      "Epoch 10/100\n",
      "8000/8000 [==============================] - 0s 7us/step - loss: 0.5425 - acc: 0.7969\n",
      "Epoch 11/100\n",
      "8000/8000 [==============================] - 0s 7us/step - loss: 0.5387 - acc: 0.7968\n",
      "Epoch 12/100\n",
      "8000/8000 [==============================] - 0s 8us/step - loss: 0.5396 - acc: 0.7966\n",
      "Epoch 13/100\n",
      "8000/8000 [==============================] - 0s 9us/step - loss: 0.5392 - acc: 0.7969\n",
      "Epoch 14/100\n",
      "8000/8000 [==============================] - 0s 8us/step - loss: 0.5425 - acc: 0.7970\n",
      "Epoch 15/100\n",
      "8000/8000 [==============================] - 0s 8us/step - loss: 0.5368 - acc: 0.7968\n",
      "Epoch 16/100\n",
      "8000/8000 [==============================] - 0s 11us/step - loss: 0.5379 - acc: 0.7969\n",
      "Epoch 17/100\n",
      "8000/8000 [==============================] - 0s 11us/step - loss: 0.5363 - acc: 0.7968\n",
      "Epoch 18/100\n",
      "8000/8000 [==============================] - 0s 10us/step - loss: 0.5348 - acc: 0.7969\n",
      "Epoch 19/100\n",
      "8000/8000 [==============================] - 0s 11us/step - loss: 0.5352 - acc: 0.7969\n",
      "Epoch 20/100\n",
      "8000/8000 [==============================] - 0s 9us/step - loss: 0.5362 - acc: 0.7969\n",
      "Epoch 21/100\n",
      "8000/8000 [==============================] - 0s 9us/step - loss: 0.5320 - acc: 0.7969\n",
      "Epoch 22/100\n",
      "8000/8000 [==============================] - 0s 10us/step - loss: 0.5347 - acc: 0.7969\n",
      "Epoch 23/100\n",
      "8000/8000 [==============================] - 0s 10us/step - loss: 0.5364 - acc: 0.7969\n",
      "Epoch 24/100\n",
      "8000/8000 [==============================] - 0s 9us/step - loss: 0.5335 - acc: 0.7969\n",
      "Epoch 25/100\n",
      "8000/8000 [==============================] - 0s 9us/step - loss: 0.5204 - acc: 0.7969\n",
      "Epoch 26/100\n",
      "8000/8000 [==============================] - 0s 9us/step - loss: 0.5162 - acc: 0.7969\n",
      "Epoch 27/100\n",
      "8000/8000 [==============================] - 0s 9us/step - loss: 0.5168 - acc: 0.7969\n",
      "Epoch 28/100\n",
      "8000/8000 [==============================] - 0s 9us/step - loss: 0.5171 - acc: 0.7969A: 0s - loss: 0.5165 - acc: 0.796\n",
      "Epoch 29/100\n",
      "8000/8000 [==============================] - 0s 10us/step - loss: 0.5118 - acc: 0.7969\n",
      "Epoch 30/100\n",
      "8000/8000 [==============================] - 0s 9us/step - loss: 0.5180 - acc: 0.7969\n",
      "Epoch 31/100\n",
      "8000/8000 [==============================] - 0s 9us/step - loss: 0.5154 - acc: 0.7969\n",
      "Epoch 32/100\n",
      "8000/8000 [==============================] - 0s 11us/step - loss: 0.5161 - acc: 0.7969\n",
      "Epoch 33/100\n",
      "8000/8000 [==============================] - 0s 9us/step - loss: 0.5136 - acc: 0.7969\n",
      "Epoch 34/100\n",
      "8000/8000 [==============================] - 0s 11us/step - loss: 0.5125 - acc: 0.7969\n",
      "Epoch 35/100\n",
      "8000/8000 [==============================] - 0s 10us/step - loss: 0.5123 - acc: 0.7969\n",
      "Epoch 36/100\n",
      "8000/8000 [==============================] - 0s 9us/step - loss: 0.5122 - acc: 0.7969\n",
      "Epoch 37/100\n",
      "8000/8000 [==============================] - 0s 9us/step - loss: 0.5137 - acc: 0.7969\n",
      "Epoch 38/100\n",
      "8000/8000 [==============================] - 0s 9us/step - loss: 0.5098 - acc: 0.7969\n",
      "Epoch 39/100\n",
      "8000/8000 [==============================] - 0s 9us/step - loss: 0.5126 - acc: 0.7969\n",
      "Epoch 40/100\n",
      "8000/8000 [==============================] - 0s 9us/step - loss: 0.5080 - acc: 0.7969\n",
      "Epoch 41/100\n",
      "8000/8000 [==============================] - 0s 9us/step - loss: 0.5091 - acc: 0.7969\n",
      "Epoch 42/100\n",
      "8000/8000 [==============================] - 0s 9us/step - loss: 0.5094 - acc: 0.7969\n",
      "Epoch 43/100\n",
      "8000/8000 [==============================] - 0s 9us/step - loss: 0.5105 - acc: 0.7969\n",
      "Epoch 44/100\n",
      "8000/8000 [==============================] - 0s 9us/step - loss: 0.5083 - acc: 0.7969\n",
      "Epoch 45/100\n",
      "8000/8000 [==============================] - 0s 8us/step - loss: 0.5127 - acc: 0.7969\n",
      "Epoch 46/100\n",
      "8000/8000 [==============================] - 0s 10us/step - loss: 0.5105 - acc: 0.7969\n",
      "Epoch 47/100\n",
      "8000/8000 [==============================] - 0s 8us/step - loss: 0.5076 - acc: 0.7969\n",
      "Epoch 48/100\n",
      "8000/8000 [==============================] - 0s 9us/step - loss: 0.5100 - acc: 0.7969\n",
      "Epoch 49/100\n",
      "8000/8000 [==============================] - 0s 9us/step - loss: 0.5101 - acc: 0.7969\n",
      "Epoch 50/100\n",
      "8000/8000 [==============================] - 0s 8us/step - loss: 0.5087 - acc: 0.7969\n",
      "Epoch 51/100\n",
      "8000/8000 [==============================] - 0s 8us/step - loss: 0.5069 - acc: 0.7969\n",
      "Epoch 52/100\n",
      "8000/8000 [==============================] - 0s 9us/step - loss: 0.5081 - acc: 0.7969\n",
      "Epoch 53/100\n",
      "8000/8000 [==============================] - 0s 8us/step - loss: 0.5071 - acc: 0.7969\n",
      "Epoch 54/100\n",
      "8000/8000 [==============================] - 0s 8us/step - loss: 0.5075 - acc: 0.7969\n",
      "Epoch 55/100\n",
      "8000/8000 [==============================] - 0s 10us/step - loss: 0.5090 - acc: 0.7969\n",
      "Epoch 56/100\n",
      "8000/8000 [==============================] - 0s 9us/step - loss: 0.5086 - acc: 0.7969\n",
      "Epoch 57/100\n",
      "8000/8000 [==============================] - 0s 9us/step - loss: 0.5119 - acc: 0.7969\n",
      "Epoch 58/100\n",
      "8000/8000 [==============================] - 0s 9us/step - loss: 0.5151 - acc: 0.7969\n",
      "Epoch 59/100\n",
      "8000/8000 [==============================] - 0s 10us/step - loss: 0.5101 - acc: 0.7969\n",
      "Epoch 60/100\n",
      "8000/8000 [==============================] - 0s 10us/step - loss: 0.5053 - acc: 0.7969\n",
      "Epoch 61/100\n",
      "8000/8000 [==============================] - 0s 9us/step - loss: 0.5054 - acc: 0.7969\n",
      "Epoch 62/100\n",
      "8000/8000 [==============================] - 0s 8us/step - loss: 0.5069 - acc: 0.7969\n",
      "Epoch 63/100\n",
      "8000/8000 [==============================] - 0s 9us/step - loss: 0.5076 - acc: 0.7969\n",
      "Epoch 64/100\n",
      "8000/8000 [==============================] - 0s 8us/step - loss: 0.5061 - acc: 0.7969\n",
      "Epoch 65/100\n",
      "8000/8000 [==============================] - 0s 8us/step - loss: 0.5053 - acc: 0.7969\n",
      "Epoch 66/100\n",
      "8000/8000 [==============================] - 0s 10us/step - loss: 0.5069 - acc: 0.7969\n",
      "Epoch 67/100\n",
      "8000/8000 [==============================] - 0s 9us/step - loss: 0.5042 - acc: 0.7969\n",
      "Epoch 68/100\n",
      "8000/8000 [==============================] - 0s 8us/step - loss: 0.5049 - acc: 0.7969\n",
      "Epoch 69/100\n",
      "8000/8000 [==============================] - 0s 9us/step - loss: 0.5088 - acc: 0.7969\n",
      "Epoch 70/100\n",
      "8000/8000 [==============================] - 0s 9us/step - loss: 0.5071 - acc: 0.7969\n",
      "Epoch 71/100\n",
      "8000/8000 [==============================] - 0s 9us/step - loss: 0.5058 - acc: 0.7969\n",
      "Epoch 72/100\n",
      "8000/8000 [==============================] - 0s 9us/step - loss: 0.5045 - acc: 0.7969\n",
      "Epoch 73/100\n",
      "8000/8000 [==============================] - 0s 8us/step - loss: 0.5047 - acc: 0.7969\n",
      "Epoch 74/100\n",
      "8000/8000 [==============================] - 0s 8us/step - loss: 0.5038 - acc: 0.7969\n",
      "Epoch 75/100\n",
      "8000/8000 [==============================] - 0s 8us/step - loss: 0.5037 - acc: 0.7969\n",
      "Epoch 76/100\n",
      "8000/8000 [==============================] - 0s 8us/step - loss: 0.5056 - acc: 0.7969\n",
      "Epoch 77/100\n",
      "8000/8000 [==============================] - 0s 10us/step - loss: 0.5043 - acc: 0.7969\n",
      "Epoch 78/100\n",
      "8000/8000 [==============================] - 0s 8us/step - loss: 0.5038 - acc: 0.7969\n",
      "Epoch 79/100\n",
      "8000/8000 [==============================] - 0s 7us/step - loss: 0.5037 - acc: 0.7969\n",
      "Epoch 80/100\n",
      "8000/8000 [==============================] - 0s 8us/step - loss: 0.5044 - acc: 0.7969\n",
      "Epoch 81/100\n",
      "8000/8000 [==============================] - 0s 10us/step - loss: 0.5052 - acc: 0.7969\n",
      "Epoch 82/100\n",
      "8000/8000 [==============================] - 0s 7us/step - loss: 0.5041 - acc: 0.7969\n",
      "Epoch 83/100\n"
     ]
    },
    {
     "name": "stdout",
     "output_type": "stream",
     "text": [
      "8000/8000 [==============================] - 0s 8us/step - loss: 0.5047 - acc: 0.7969\n",
      "Epoch 84/100\n",
      "8000/8000 [==============================] - 0s 9us/step - loss: 0.5054 - acc: 0.7969\n",
      "Epoch 85/100\n",
      "8000/8000 [==============================] - 0s 9us/step - loss: 0.5040 - acc: 0.7969\n",
      "Epoch 86/100\n",
      "8000/8000 [==============================] - 0s 9us/step - loss: 0.5036 - acc: 0.7969\n",
      "Epoch 87/100\n",
      "8000/8000 [==============================] - 0s 8us/step - loss: 0.5027 - acc: 0.7969\n",
      "Epoch 88/100\n",
      "8000/8000 [==============================] - 0s 8us/step - loss: 0.5035 - acc: 0.7969\n",
      "Epoch 89/100\n",
      "8000/8000 [==============================] - 0s 9us/step - loss: 0.5021 - acc: 0.7969\n",
      "Epoch 90/100\n",
      "8000/8000 [==============================] - 0s 9us/step - loss: 0.5014 - acc: 0.7969\n",
      "Epoch 91/100\n",
      "8000/8000 [==============================] - 0s 6us/step - loss: 0.5010 - acc: 0.7969\n",
      "Epoch 92/100\n",
      "8000/8000 [==============================] - 0s 10us/step - loss: 0.5040 - acc: 0.7969\n",
      "Epoch 93/100\n",
      "8000/8000 [==============================] - 0s 10us/step - loss: 0.5031 - acc: 0.7969\n",
      "Epoch 94/100\n",
      "8000/8000 [==============================] - 0s 8us/step - loss: 0.5028 - acc: 0.7969\n",
      "Epoch 95/100\n",
      "8000/8000 [==============================] - 0s 7us/step - loss: 0.5032 - acc: 0.7969\n",
      "Epoch 96/100\n",
      "8000/8000 [==============================] - 0s 9us/step - loss: 0.5044 - acc: 0.7969\n",
      "Epoch 97/100\n",
      "8000/8000 [==============================] - 0s 10us/step - loss: 0.5009 - acc: 0.7969\n",
      "Epoch 98/100\n",
      "8000/8000 [==============================] - 0s 7us/step - loss: 0.5002 - acc: 0.7969\n",
      "Epoch 99/100\n",
      "8000/8000 [==============================] - 0s 8us/step - loss: 0.5010 - acc: 0.7969\n",
      "Epoch 100/100\n",
      "8000/8000 [==============================] - 0s 8us/step - loss: 0.5023 - acc: 0.7969\n"
     ]
    },
    {
     "data": {
      "text/plain": [
       "<keras.callbacks.History at 0x18d081907b8>"
      ]
     },
     "execution_count": 49,
     "metadata": {},
     "output_type": "execute_result"
    }
   ],
   "source": [
    "clf.fit(X_train,y_train,batch_size=500,epochs=100)"
   ]
  },
  {
   "cell_type": "code",
   "execution_count": 50,
   "metadata": {},
   "outputs": [],
   "source": [
    "ypred=clf.predict(X_test)\n",
    "ypred=(ypred>0.5)"
   ]
  },
  {
   "cell_type": "code",
   "execution_count": 211,
   "metadata": {},
   "outputs": [],
   "source": [
    "def buildclassifier():\n",
    "    clf.add(Dense(units=6,activation='relu',kernel_initializer='uniform',input_dim=11))\n",
    "    clf.add(Dense(units=6,activation='relu',kernel_initializer='uniform'))\n",
    "    clf.add(Dense(units=1,kernel_initializer='uniform',activation='sigmoid'))\n",
    "    clf.compile(optimizer='adam',loss='binary_crossentropy',metrics=['accuracy'])\n",
    "    return clf\n",
    "    "
   ]
  },
  {
   "cell_type": "code",
   "execution_count": null,
   "metadata": {},
   "outputs": [],
   "source": [
    "clf=KerasClassifier(build_fn=buildclassifier,batch_size=50,nb_epoch=100)\n",
    "accuracies=cross_val_score(estimator=clf,X=X_train,y=y_train,cv=5,n_jobs=-1)"
   ]
  },
  {
   "cell_type": "code",
   "execution_count": null,
   "metadata": {},
   "outputs": [],
   "source": [
    "mean=accuracies.mean()\n",
    "variance=accuracies.std()"
   ]
  },
  {
   "cell_type": "code",
   "execution_count": null,
   "metadata": {},
   "outputs": [],
   "source": [
    "#Grid Search\n",
    "from sklearn.model_selection import GridSearchCV"
   ]
  },
  {
   "cell_type": "code",
   "execution_count": null,
   "metadata": {},
   "outputs": [],
   "source": [
    "def buildclassifier():\n",
    "    clf.add(Dense(units=6,activation='relu',kernel_initializer='uniform',input_dim=11))\n",
    "    clf.add(Dense(units=6,activation='relu',kernel_initializer='uniform'))\n",
    "    clf.add(Dense(units=1,kernel_initializer='uniform',activation='sigmoid'))\n",
    "    clf.compile(optimizer=optimizer,loss='binary_crossentropy',metrics=['accuracy'])\n",
    "    return clf\n",
    "clf=KerasClassifier(build_fn=buildclassifier)\n",
    "parameters={'batch_size':[25,32],'nb_epoch':[100,500],'optimizer':['adam','rmsprop']}\n",
    "\n",
    "grid_search=GridSearch(estimator=clf,param_grid=parameters,cv=10,scoring='accuracy')\n",
    "grid_search.fit(X_train,y_train)\n",
    "best_params=grid_search.best_params_\n",
    "best_score=grid_search.best_score_"
   ]
  }
 ],
 "metadata": {
  "kernelspec": {
   "display_name": "Python 3",
   "language": "python",
   "name": "python3"
  },
  "language_info": {
   "codemirror_mode": {
    "name": "ipython",
    "version": 3
   },
   "file_extension": ".py",
   "mimetype": "text/x-python",
   "name": "python",
   "nbconvert_exporter": "python",
   "pygments_lexer": "ipython3",
   "version": "3.6.4"
  }
 },
 "nbformat": 4,
 "nbformat_minor": 2
}
